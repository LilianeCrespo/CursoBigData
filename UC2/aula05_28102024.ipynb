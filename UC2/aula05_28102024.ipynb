{
 "cells": [
  {
   "cell_type": "code",
   "execution_count": 11,
   "metadata": {},
   "outputs": [],
   "source": [
    "import pandas as pd\n",
    "import numpy as np"
   ]
  },
  {
   "cell_type": "code",
   "execution_count": 29,
   "metadata": {},
   "outputs": [
    {
     "name": "stdout",
     "output_type": "stream",
     "text": [
      "[10 20 30]\n",
      "0    10\n",
      "1    20\n",
      "2    30\n",
      "dtype: int64\n"
     ]
    }
   ],
   "source": [
    "#convertendo um array pra uma série:\n",
    "arr1=np.array([10,20,30])\n",
    "serie1=pd.Series(arr1)\n",
    "print(arr1)\n",
    "print(serie1)"
   ]
  },
  {
   "cell_type": "code",
   "execution_count": 30,
   "metadata": {},
   "outputs": [
    {
     "name": "stdout",
     "output_type": "stream",
     "text": [
      "[10 20 30]\n"
     ]
    }
   ],
   "source": [
    "#convertendo uma série pra um array:\n",
    "arr2=serie1.to_numpy()\n",
    "print(arr2)"
   ]
  },
  {
   "cell_type": "markdown",
   "metadata": {},
   "source": [
    "**Dataframes e suas Principais Funções:**"
   ]
  },
  {
   "cell_type": "code",
   "execution_count": 31,
   "metadata": {},
   "outputs": [
    {
     "name": "stdout",
     "output_type": "stream",
     "text": [
      "[[1 2]\n",
      " [3 4]]\n",
      "   A  B\n",
      "0  1  2\n",
      "1  3  4\n"
     ]
    }
   ],
   "source": [
    "#criação:\n",
    "arr3=np.array([[1,2],[3,4]])\n",
    "df_arr=pd.DataFrame(arr3,columns=['A','B'])\n",
    "print (arr3)\n",
    "print(df_arr)"
   ]
  },
  {
   "cell_type": "code",
   "execution_count": 32,
   "metadata": {},
   "outputs": [
    {
     "name": "stdout",
     "output_type": "stream",
     "text": [
      "0    1\n",
      "1    3\n",
      "Name: A, dtype: int64\n"
     ]
    }
   ],
   "source": [
    "#transformando uma coluna em uma série:\n",
    "coluna_serie=df_arr['A']\n",
    "print(coluna_serie)"
   ]
  },
  {
   "cell_type": "code",
   "execution_count": 33,
   "metadata": {},
   "outputs": [
    {
     "name": "stdout",
     "output_type": "stream",
     "text": [
      "cidade\n",
      "RJ    3\n",
      "SP    2\n",
      "MG    1\n",
      "ES    1\n",
      "Name: count, dtype: int64\n"
     ]
    }
   ],
   "source": [
    "#contagem de valores:\n",
    "estados=pd.DataFrame({'cidade':['RJ','SP','MG','ES','RJ', 'RJ','SP']})\n",
    "print(estados['cidade'].value_counts())"
   ]
  },
  {
   "cell_type": "code",
   "execution_count": 35,
   "metadata": {},
   "outputs": [
    {
     "name": "stdout",
     "output_type": "stream",
     "text": [
      "112.6\n",
      "7.506666666666666\n",
      "7.0\n",
      "           Notas\n",
      "count  15.000000\n",
      "mean    7.506667\n",
      "std     1.617081\n",
      "min     4.000000\n",
      "25%     7.000000\n",
      "50%     7.000000\n",
      "75%     8.500000\n",
      "max    10.000000\n"
     ]
    }
   ],
   "source": [
    "#Cálculo Estatísticos:\n",
    "notas=pd.DataFrame({'Notas':[10,8.5,7,7,7,7,5.6,6,8,8,7,10,4,9,8.5]})\n",
    "print(notas['Notas'].sum())  #soma\n",
    "print(notas['Notas'].mean())  #média\n",
    "print(notas['Notas'].median())  #mediana\n",
    "print(notas.describe()) #resumo das estatísticas"
   ]
  },
  {
   "cell_type": "code",
   "execution_count": 37,
   "metadata": {},
   "outputs": [
    {
     "ename": "AttributeError",
     "evalue": "module 'numpy' has no attribute 'arrange'",
     "output_type": "error",
     "traceback": [
      "\u001b[1;31m---------------------------------------------------------------------------\u001b[0m",
      "\u001b[1;31mAttributeError\u001b[0m                            Traceback (most recent call last)",
      "Cell \u001b[1;32mIn[37], line 1\u001b[0m\n\u001b[1;32m----> 1\u001b[0m array_original\u001b[39m=\u001b[39mnp\u001b[39m.\u001b[39;49marrange(\u001b[39m1\u001b[39m,\u001b[39m13\u001b[39m)\n\u001b[0;32m      2\u001b[0m \u001b[39mprint\u001b[39m(array_original)\n\u001b[0;32m      3\u001b[0m array_3_por_4\u001b[39m=\u001b[39marray_original\u001b[39m.\u001b[39mreshape(\u001b[39m3\u001b[39m,\u001b[39m4\u001b[39m)\n",
      "File \u001b[1;32mc:\\Users\\unidade.copacabana\\Documents\\BigDataSenac\\lilianecrespo\\Lib\\site-packages\\numpy\\__init__.py:428\u001b[0m, in \u001b[0;36m__getattr__\u001b[1;34m(attr)\u001b[0m\n\u001b[0;32m    425\u001b[0m     \u001b[39mimport\u001b[39;00m \u001b[39mnumpy\u001b[39;00m\u001b[39m.\u001b[39;00m\u001b[39mchar\u001b[39;00m \u001b[39mas\u001b[39;00m \u001b[39mchar\u001b[39;00m\n\u001b[0;32m    426\u001b[0m     \u001b[39mreturn\u001b[39;00m char\u001b[39m.\u001b[39mchararray\n\u001b[1;32m--> 428\u001b[0m \u001b[39mraise\u001b[39;00m \u001b[39mAttributeError\u001b[39;00m(\u001b[39m\"\u001b[39m\u001b[39mmodule \u001b[39m\u001b[39m{!r}\u001b[39;00m\u001b[39m has no attribute \u001b[39m\u001b[39m\"\u001b[39m\n\u001b[0;32m    429\u001b[0m                      \u001b[39m\"\u001b[39m\u001b[39m{!r}\u001b[39;00m\u001b[39m\"\u001b[39m\u001b[39m.\u001b[39mformat(\u001b[39m__name__\u001b[39m, attr))\n",
      "\u001b[1;31mAttributeError\u001b[0m: module 'numpy' has no attribute 'arrange'"
     ]
    }
   ],
   "source": [
    "array_original=np.arrange(1,13)\n",
    "print(array_original)\n",
    "array_3_por_4=array_original.reshape(3,4)\n",
    "print(array_3_por_4)\n",
    "print('------------')\n",
    "#DESAFIO\n",
    "array_4_por_3=array_3_por_4.tranpose()\n",
    "print(array_4_por_3)\n",
    "array_unidimensional=array_4_por_3.flatten()\n",
    "print(array_unidimensional)"
   ]
  }
 ],
 "metadata": {
  "kernelspec": {
   "display_name": "lilianecrespo",
   "language": "python",
   "name": "python3"
  },
  "language_info": {
   "codemirror_mode": {
    "name": "ipython",
    "version": 3
   },
   "file_extension": ".py",
   "mimetype": "text/x-python",
   "name": "python",
   "nbconvert_exporter": "python",
   "pygments_lexer": "ipython3",
   "version": "3.11.4"
  },
  "orig_nbformat": 4
 },
 "nbformat": 4,
 "nbformat_minor": 2
}
