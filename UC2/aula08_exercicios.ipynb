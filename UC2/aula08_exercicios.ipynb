{
 "cells": [
  {
   "cell_type": "markdown",
   "metadata": {},
   "source": [
    "**Medidas de Tendência Central com Numpy:**"
   ]
  },
  {
   "cell_type": "code",
   "execution_count": 26,
   "metadata": {},
   "outputs": [],
   "source": [
    "import pandas as pd\n",
    "import numpy as np\n",
    "import matplotlib.pyplot as plt\n",
    "import random"
   ]
  },
  {
   "cell_type": "code",
   "execution_count": 2,
   "metadata": {},
   "outputs": [],
   "source": [
    "amostra=np.array([2500,3200,2700,3000,3400,3700,4500,4700,5000,5200,6000,7000])"
   ]
  },
  {
   "cell_type": "code",
   "execution_count": 32,
   "metadata": {},
   "outputs": [],
   "source": [
    "media=np.mean(amostra)\n",
    "mediana=np.median(amostra)\n",
    "diferenca=[x - media for x in amostra]\n",
    "\n",
    "q1=np.percentile(amostra,25) # o primeiro quartil representa 25% do total da amostra\n",
    "q2=np.percentile(amostra,50) # mediana pode ser interpretada como o seu segundo quartil (quartil 50)\n",
    "q3=np.percentile(amostra,75) # o terceiro quartil representa 75% do total da amostra\n",
    "\n",
    "amostra_df=pd.DataFrame(amostra, columns=['Valores'])\n",
    "distancia=(media-mediana)/mediana*100\n",
    "quadrados_das_diferencas= [x **2 for x in diferenca]\n",
    "variancia=sum(quadrados_das_diferencas) / len (quadrados_das_diferencas)\n",
    "desviopadrao=variancia **0.5  \n",
    "desviopadrao=np.std(amostra)\n",
    "amostra2=pd.Series(amostra)\n",
    "variancia2=amostra2.var()\n",
    "desviopadrao3=amostra2.std()\n",
    "\n",
    "\n",
    "\n"
   ]
  },
  {
   "cell_type": "code",
   "execution_count": 6,
   "metadata": {},
   "outputs": [
    {
     "name": "stdout",
     "output_type": "stream",
     "text": [
      "A média está DENTRO do intervalo interquartil, o que sugere confiabilidade.\n"
     ]
    }
   ],
   "source": [
    "#INTERVALO INTERQUARTIL:\n",
    "\n",
    "if q1 <= media <= q3:\n",
    "    print(\"A média está DENTRO do intervalo interquartil, o que sugere confiabilidade.\")\n",
    "else:\n",
    "    print(\"A média está FORA do intervalo interquartil, o que sugere MENOS confiabilidade.\")"
   ]
  },
  {
   "cell_type": "code",
   "execution_count": 18,
   "metadata": {},
   "outputs": [],
   "source": [
    "valor_maximo=amostra_df['Valores'].max()\n",
    "valor_minimo=amostra_df['Valores'].min()\n",
    "amplitude_total=valor_maximo-valor_maximo"
   ]
  },
  {
   "cell_type": "markdown",
   "metadata": {},
   "source": [
    "**Outliers:**"
   ]
  },
  {
   "cell_type": "code",
   "execution_count": 34,
   "metadata": {},
   "outputs": [
    {
     "name": "stdout",
     "output_type": "stream",
     "text": [
      "Média: 4241.666666666667\n",
      "Mediana: 4100.0\n",
      "Distância entre média e mediana: 3.46%\n",
      "Primeiro Quartil (Q1):3150.0\n",
      "Segundo Quartil (Q2):4100.0\n",
      "Terceiro Quartil (Q3):5050.0\n",
      "Intervalo InterQuartil:1900.0\n",
      "Limite Superior:7900.0\n",
      "Limite Inferior:300.0\n",
      "Menor Valor:2500\n",
      "Maior Valor:7000\n",
      "Amplitude:0\n",
      "Variância:1792430.5555555553\n",
      "Variância 2:1955378.787878788\n",
      "Desvio padrão:1398.3485931193222\n",
      "Desvio de padrão 2:1398.3485931193222\n",
      "Desvio de padrão 3:1398.3485931193222\n"
     ]
    }
   ],
   "source": [
    "#Cálculos para verificação do Intervalo InterQuartil (IQR) e seus Limites:\n",
    "\n",
    "iqr=q3-q1\n",
    "limite_superior=q3+(1.5*iqr)\n",
    "limite_inferior=q1-(1.5*iqr)\n",
    "\n",
    "#Resumo Estatístico:\n",
    "print(f'Média: {media}')\n",
    "print(f'Mediana: {mediana}')\n",
    "print (f'Distância entre média e mediana: {distancia:.2f}%')\n",
    "print(f\"Primeiro Quartil (Q1):{q1}\")\n",
    "print(f\"Segundo Quartil (Q2):{q2}\")\n",
    "print(f\"Terceiro Quartil (Q3):{q3}\")\n",
    "print(f\"Intervalo InterQuartil:{iqr}\")\n",
    "print(f\"Limite Superior:{limite_superior}\")\n",
    "print(f\"Limite Inferior:{limite_inferior}\")\n",
    "print(f'Menor Valor:{valor_minimo}')\n",
    "print(f'Maior Valor:{valor_maximo}')\n",
    "print(f'Amplitude:{amplitude_total}')\n",
    "print(f'Variância:{variancia}')\n",
    "print(f'Variância 2:{variancia2}')\n",
    "print (f'Desvio padrão:{desviopadrao}') \n",
    "print (f'Desvio de padrão 2:{desviopadrao}')\n",
    "print (f'Desvio de padrão 3:{desviopadrao}')"
   ]
  }
 ],
 "metadata": {
  "kernelspec": {
   "display_name": "virtual1",
   "language": "python",
   "name": "python3"
  },
  "language_info": {
   "codemirror_mode": {
    "name": "ipython",
    "version": 3
   },
   "file_extension": ".py",
   "mimetype": "text/x-python",
   "name": "python",
   "nbconvert_exporter": "python",
   "pygments_lexer": "ipython3",
   "version": "3.11.4"
  },
  "orig_nbformat": 4
 },
 "nbformat": 4,
 "nbformat_minor": 2
}
