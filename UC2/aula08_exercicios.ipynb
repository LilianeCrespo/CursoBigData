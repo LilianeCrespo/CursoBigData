{
 "cells": [
  {
   "cell_type": "markdown",
   "metadata": {},
   "source": [
    "**Medidas de Tendência Central com Numpy:**"
   ]
  },
  {
   "cell_type": "code",
   "execution_count": 1,
   "metadata": {},
   "outputs": [],
   "source": [
    "import pandas as pd\n",
    "import numpy as np\n",
    "import matplotlib.pyplot as plt\n",
    "import random"
   ]
  },
  {
   "cell_type": "code",
   "execution_count": 7,
   "metadata": {},
   "outputs": [],
   "source": [
    "amostra=np.array([2500,3200,2700,3000,3400,3700,4500,4700,5000,5200,6000,7000])"
   ]
  },
  {
   "cell_type": "code",
   "execution_count": 46,
   "metadata": {},
   "outputs": [
    {
     "data": {
      "text/html": [
       "<div>\n",
       "<style scoped>\n",
       "    .dataframe tbody tr th:only-of-type {\n",
       "        vertical-align: middle;\n",
       "    }\n",
       "\n",
       "    .dataframe tbody tr th {\n",
       "        vertical-align: top;\n",
       "    }\n",
       "\n",
       "    .dataframe thead th {\n",
       "        text-align: right;\n",
       "    }\n",
       "</style>\n",
       "<table border=\"1\" class=\"dataframe\">\n",
       "  <thead>\n",
       "    <tr style=\"text-align: right;\">\n",
       "      <th></th>\n",
       "      <th>Salários</th>\n",
       "    </tr>\n",
       "  </thead>\n",
       "  <tbody>\n",
       "    <tr>\n",
       "      <th>0</th>\n",
       "      <td>2500</td>\n",
       "    </tr>\n",
       "    <tr>\n",
       "      <th>1</th>\n",
       "      <td>2700</td>\n",
       "    </tr>\n",
       "    <tr>\n",
       "      <th>2</th>\n",
       "      <td>3200</td>\n",
       "    </tr>\n",
       "    <tr>\n",
       "      <th>3</th>\n",
       "      <td>4000</td>\n",
       "    </tr>\n",
       "    <tr>\n",
       "      <th>4</th>\n",
       "      <td>4500</td>\n",
       "    </tr>\n",
       "    <tr>\n",
       "      <th>5</th>\n",
       "      <td>4800</td>\n",
       "    </tr>\n",
       "    <tr>\n",
       "      <th>6</th>\n",
       "      <td>5000</td>\n",
       "    </tr>\n",
       "    <tr>\n",
       "      <th>7</th>\n",
       "      <td>5200</td>\n",
       "    </tr>\n",
       "    <tr>\n",
       "      <th>8</th>\n",
       "      <td>6000</td>\n",
       "    </tr>\n",
       "    <tr>\n",
       "      <th>9</th>\n",
       "      <td>8000</td>\n",
       "    </tr>\n",
       "    <tr>\n",
       "      <th>10</th>\n",
       "      <td>15000</td>\n",
       "    </tr>\n",
       "  </tbody>\n",
       "</table>\n",
       "</div>"
      ],
      "text/plain": [
       "    Salários\n",
       "0       2500\n",
       "1       2700\n",
       "2       3200\n",
       "3       4000\n",
       "4       4500\n",
       "5       4800\n",
       "6       5000\n",
       "7       5200\n",
       "8       6000\n",
       "9       8000\n",
       "10     15000"
      ]
     },
     "metadata": {},
     "output_type": "display_data"
    }
   ],
   "source": [
    "media=np.mean(amostra)\n",
    "mediana=np.median(amostra)\n",
    "diferenca=[x - media for x in amostra]\n",
    "\n",
    "q1=np.percentile(amostra,25) # o primeiro quartil representa 25% do total da amostra\n",
    "q2=np.percentile(amostra,50) # mediana pode ser interpretada como o seu segundo quartil (quartil 50)\n",
    "q3=np.percentile(amostra,75) # o terceiro quartil representa 75% do total da amostra\n",
    "\n",
    "amostra_df=pd.DataFrame(amostra, columns=['Valores'])\n",
    "distancia=(media-mediana)/mediana*100\n",
    "quadrados_das_diferencas= [x **2 for x in diferenca]\n",
    "variancia=sum(quadrados_das_diferencas) / len (quadrados_das_diferencas)\n",
    "desviopadrao=variancia **0.5  \n",
    "desviopadrao=np.std(amostra)\n",
    "amostra2=pd.Series(amostra)\n",
    "variancia2=amostra2.var()\n",
    "desviopadrao3=amostra2.std()\n",
    "iqr=q3-q1\n",
    "limite_superior=q3+(1.5*iqr)\n",
    "limite_inferior=q1-(1.5*iqr)\n",
    "coef_variacao=desviopadrao/media\n",
    "distancia=variancia / (media**2)\n",
    "\n",
    "salarios={'Salários':[2500,2700,3200,4000,4500,4800,5000,5200,6000,8000,15000]}\n",
    "df_salarios=pd.DataFrame(salarios)\n",
    "display(df_salarios)\n",
    "\n",
    "#Calculando a assimetria\n",
    "assimetria=df_salarios['Salários'].skew()\n",
    "media=df_salarios['Salários'].mean()\n",
    "mediana=df_salarios['Salários'].median()\n",
    "\n",
    "\n",
    "curtose=df_salarios['Salários'].kurtosis()\n",
    "\n"
   ]
  },
  {
   "cell_type": "code",
   "execution_count": 9,
   "metadata": {},
   "outputs": [
    {
     "name": "stdout",
     "output_type": "stream",
     "text": [
      "A média está DENTRO do intervalo interquartil, o que sugere confiabilidade.\n"
     ]
    }
   ],
   "source": [
    "#INTERVALO INTERQUARTIL:\n",
    "\n",
    "if q1 <= media <= q3:\n",
    "    print(\"A média está DENTRO do intervalo interquartil, o que sugere confiabilidade.\")\n",
    "else:\n",
    "    print(\"A média está FORA do intervalo interquartil, o que sugere MENOS confiabilidade.\")"
   ]
  },
  {
   "cell_type": "code",
   "execution_count": 10,
   "metadata": {},
   "outputs": [],
   "source": [
    "valor_maximo=amostra_df['Valores'].max()\n",
    "valor_minimo=amostra_df['Valores'].min()\n",
    "amplitude_total=valor_maximo-valor_maximo"
   ]
  },
  {
   "cell_type": "markdown",
   "metadata": {},
   "source": [
    "**Outliers:**"
   ]
  },
  {
   "cell_type": "code",
   "execution_count": 47,
   "metadata": {},
   "outputs": [
    {
     "name": "stdout",
     "output_type": "stream",
     "text": [
      "Média: 5536.363636363636\n",
      "Mediana: 4800.0\n"
     ]
    },
    {
     "data": {
      "text/plain": [
       "[-1741.666666666667,\n",
       " -1041.666666666667,\n",
       " -1541.666666666667,\n",
       " -1241.666666666667,\n",
       " -841.666666666667,\n",
       " -541.666666666667,\n",
       " 258.33333333333303,\n",
       " 458.33333333333303,\n",
       " 758.333333333333,\n",
       " 958.333333333333,\n",
       " 1758.333333333333,\n",
       " 2758.333333333333]"
      ]
     },
     "metadata": {},
     "output_type": "display_data"
    },
    {
     "name": "stdout",
     "output_type": "stream",
     "text": [
      "Distância entre média e mediana: 0.10%\n",
      "Primeiro Quartil (Q1): 3150.0\n",
      "Segundo Quartil (Q2): 4100.0\n",
      "Terceiro Quartil (Q3): 5050.0\n",
      "Intervalo InterQuartil: 1900.0\n",
      "Limite Superior: 7900.0\n",
      "Limite Inferior: 300.0\n",
      "Menor Valor: 2500\n",
      "Maior Valor: 7000\n",
      "Amplitude: 0\n",
      "Variância: 1792430.5555555553\n",
      "Variância 2: 1955378.787878788\n",
      "Desvio padrão: 1338.8168491453773\n",
      "Desvio de padrão 2: 1338.8168491453773\n",
      "Desvio de padrão 3: 1338.8168491453773\n",
      "Intervalo InterQuartil: 1900.0\n",
      "Limite Superior: 7900.0\n",
      "Limite Inferior: 300.0\n",
      "Coeficiente da Variação: 0.3156346206236646\n",
      "9.962521373624462 %\n"
     ]
    },
    {
     "data": {
      "text/html": [
       "<div>\n",
       "<style scoped>\n",
       "    .dataframe tbody tr th:only-of-type {\n",
       "        vertical-align: middle;\n",
       "    }\n",
       "\n",
       "    .dataframe tbody tr th {\n",
       "        vertical-align: top;\n",
       "    }\n",
       "\n",
       "    .dataframe thead th {\n",
       "        text-align: right;\n",
       "    }\n",
       "</style>\n",
       "<table border=\"1\" class=\"dataframe\">\n",
       "  <thead>\n",
       "    <tr style=\"text-align: right;\">\n",
       "      <th></th>\n",
       "      <th>Salários</th>\n",
       "    </tr>\n",
       "  </thead>\n",
       "  <tbody>\n",
       "    <tr>\n",
       "      <th>0</th>\n",
       "      <td>2500</td>\n",
       "    </tr>\n",
       "    <tr>\n",
       "      <th>1</th>\n",
       "      <td>2700</td>\n",
       "    </tr>\n",
       "    <tr>\n",
       "      <th>2</th>\n",
       "      <td>3200</td>\n",
       "    </tr>\n",
       "    <tr>\n",
       "      <th>3</th>\n",
       "      <td>4000</td>\n",
       "    </tr>\n",
       "    <tr>\n",
       "      <th>4</th>\n",
       "      <td>4500</td>\n",
       "    </tr>\n",
       "    <tr>\n",
       "      <th>5</th>\n",
       "      <td>4800</td>\n",
       "    </tr>\n",
       "    <tr>\n",
       "      <th>6</th>\n",
       "      <td>5000</td>\n",
       "    </tr>\n",
       "    <tr>\n",
       "      <th>7</th>\n",
       "      <td>5200</td>\n",
       "    </tr>\n",
       "    <tr>\n",
       "      <th>8</th>\n",
       "      <td>6000</td>\n",
       "    </tr>\n",
       "    <tr>\n",
       "      <th>9</th>\n",
       "      <td>8000</td>\n",
       "    </tr>\n",
       "    <tr>\n",
       "      <th>10</th>\n",
       "      <td>15000</td>\n",
       "    </tr>\n",
       "  </tbody>\n",
       "</table>\n",
       "</div>"
      ],
      "text/plain": [
       "    Salários\n",
       "0       2500\n",
       "1       2700\n",
       "2       3200\n",
       "3       4000\n",
       "4       4500\n",
       "5       4800\n",
       "6       5000\n",
       "7       5200\n",
       "8       6000\n",
       "9       8000\n",
       "10     15000"
      ]
     },
     "metadata": {},
     "output_type": "display_data"
    },
    {
     "name": "stdout",
     "output_type": "stream",
     "text": [
      "Assimetria:2.250352522796866\n",
      "5.832993558134647\n"
     ]
    }
   ],
   "source": [
    "#Cálculos para verificação do Intervalo InterQuartil (IQR) e seus Limites:\n",
    "\n",
    "iqr=q3-q1\n",
    "limite_superior=q3+(1.5*iqr)\n",
    "limite_inferior=q1-(1.5*iqr)\n",
    "\n",
    "#Resumo Estatístico:\n",
    "print(f'Média: {media}')\n",
    "print(f'Mediana: {mediana}')\n",
    "display(diferenca)\n",
    "print (f'Distância entre média e mediana: {distancia:.2f}%')\n",
    "print(f\"Primeiro Quartil (Q1): {q1}\")\n",
    "print(f\"Segundo Quartil (Q2): {q2}\")\n",
    "print(f\"Terceiro Quartil (Q3): {q3}\")\n",
    "print(f\"Intervalo InterQuartil: {iqr}\")\n",
    "print(f\"Limite Superior: {limite_superior}\")\n",
    "print(f\"Limite Inferior: {limite_inferior}\")\n",
    "print(f'Menor Valor: {valor_minimo}')\n",
    "print(f'Maior Valor: {valor_maximo}')\n",
    "print(f'Amplitude: {amplitude_total}')\n",
    "print(f'Variância: {variancia}')\n",
    "print(f'Variância 2: {variancia2}')\n",
    "print (f'Desvio padrão: {desviopadrao}') \n",
    "print (f'Desvio de padrão 2: {desviopadrao}')\n",
    "print (f'Desvio de padrão 3: {desviopadrao}')\n",
    "print(f\"Intervalo InterQuartil: {iqr}\")\n",
    "print(f\"Limite Superior: {limite_superior}\")\n",
    "print(f\"Limite Inferior: {limite_inferior}\")\n",
    "print(f'Coeficiente da Variação: {coef_variacao}')\n",
    "\n",
    "print(distancia*100,'%')\n",
    "\n",
    "display(df_salarios)\n",
    "\n",
    "print(f'Assimetria:{assimetria}')\n",
    "\n",
    "print(curtose)\n"
   ]
  }
 ],
 "metadata": {
  "kernelspec": {
   "display_name": "Python 3",
   "language": "python",
   "name": "python3"
  },
  "language_info": {
   "codemirror_mode": {
    "name": "ipython",
    "version": 3
   },
   "file_extension": ".py",
   "mimetype": "text/x-python",
   "name": "python",
   "nbconvert_exporter": "python",
   "pygments_lexer": "ipython3",
   "version": "3.11.4"
  },
  "orig_nbformat": 4
 },
 "nbformat": 4,
 "nbformat_minor": 2
}
