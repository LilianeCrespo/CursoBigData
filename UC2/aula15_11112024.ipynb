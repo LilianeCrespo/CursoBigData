{
 "cells": [
  {
   "cell_type": "code",
   "execution_count": 1,
   "metadata": {},
   "outputs": [],
   "source": [
    "import pandas as pd\n",
    "import polars as pl\n",
    "import time\n",
    "import pyarrow\n",
    "import fastparquet"
   ]
  },
  {
   "cell_type": "code",
   "execution_count": 2,
   "metadata": {},
   "outputs": [
    {
     "data": {
      "text/html": [
       "<div><style>\n",
       ".dataframe > thead > tr,\n",
       ".dataframe > tbody > tr {\n",
       "  text-align: right;\n",
       "  white-space: pre-wrap;\n",
       "}\n",
       "</style>\n",
       "<small>shape: (5, 9)</small><table border=\"1\" class=\"dataframe\"><thead><tr><th>MÊS COMPETÊNCIA</th><th>MÊS REFERÊNCIA</th><th>UF</th><th>CÓDIGO MUNICÍPIO SIAFI</th><th>NOME MUNICÍPIO</th><th>CPF FAVORECIDO</th><th>NIS FAVORECIDO</th><th>NOME FAVORECIDO</th><th>VALOR PARCELA</th></tr><tr><td>i64</td><td>i64</td><td>str</td><td>i64</td><td>str</td><td>str</td><td>i64</td><td>str</td><td>str</td></tr></thead><tbody><tr><td>202401</td><td>202303</td><td>&quot;AC&quot;</td><td>139</td><td>&quot;RIO BRANCO&quot;</td><td>&quot;***.511.972-**&quot;</td><td>16291115205</td><td>&quot;JANAINA FERREIRA DA SILVA&quot;</td><td>&quot;800,00&quot;</td></tr><tr><td>202401</td><td>202303</td><td>&quot;BA&quot;</td><td>3329</td><td>&quot;ANGUERA&quot;</td><td>&quot;***.909.745-**&quot;</td><td>20474429886</td><td>&quot;TACIANE MARQUES DA SILVA&quot;</td><td>&quot;750,00&quot;</td></tr><tr><td>202401</td><td>202303</td><td>&quot;BA&quot;</td><td>3731</td><td>&quot;MONTE SANTO&quot;</td><td>&quot;***.872.338-**&quot;</td><td>20195376298</td><td>&quot;MAILSON DOS SANTOS SILVA&quot;</td><td>&quot;650,00&quot;</td></tr><tr><td>202401</td><td>202303</td><td>&quot;BA&quot;</td><td>3761</td><td>&quot;NOVA VICOSA&quot;</td><td>&quot;***.665.905-**&quot;</td><td>12723589082</td><td>&quot;IRENI RICARDO GERALDO&quot;</td><td>&quot;650,00&quot;</td></tr><tr><td>202401</td><td>202303</td><td>&quot;BA&quot;</td><td>3849</td><td>&quot;SALVADOR&quot;</td><td>&quot;***.932.435-**&quot;</td><td>20024584007</td><td>&quot;ELIENE GOMES DOS SANTOS&quot;</td><td>&quot;850,00&quot;</td></tr></tbody></table></div>"
      ],
      "text/plain": [
       "shape: (5, 9)\n",
       "┌────────────┬────────────┬─────┬────────────┬───┬────────────┬────────────┬───────────┬───────────┐\n",
       "│ MÊS COMPET ┆ MÊS        ┆ UF  ┆ CÓDIGO     ┆ … ┆ CPF        ┆ NIS        ┆ NOME FAVO ┆ VALOR     │\n",
       "│ ÊNCIA      ┆ REFERÊNCIA ┆ --- ┆ MUNICÍPIO  ┆   ┆ FAVORECIDO ┆ FAVORECIDO ┆ RECIDO    ┆ PARCELA   │\n",
       "│ ---        ┆ ---        ┆ str ┆ SIAFI      ┆   ┆ ---        ┆ ---        ┆ ---       ┆ ---       │\n",
       "│ i64        ┆ i64        ┆     ┆ ---        ┆   ┆ str        ┆ i64        ┆ str       ┆ str       │\n",
       "│            ┆            ┆     ┆ i64        ┆   ┆            ┆            ┆           ┆           │\n",
       "╞════════════╪════════════╪═════╪════════════╪═══╪════════════╪════════════╪═══════════╪═══════════╡\n",
       "│ 202401     ┆ 202303     ┆ AC  ┆ 139        ┆ … ┆ ***.511.97 ┆ 1629111520 ┆ JANAINA   ┆ 800,00    │\n",
       "│            ┆            ┆     ┆            ┆   ┆ 2-**       ┆ 5          ┆ FERREIRA  ┆           │\n",
       "│            ┆            ┆     ┆            ┆   ┆            ┆            ┆ DA SILVA  ┆           │\n",
       "│ 202401     ┆ 202303     ┆ BA  ┆ 3329       ┆ … ┆ ***.909.74 ┆ 2047442988 ┆ TACIANE   ┆ 750,00    │\n",
       "│            ┆            ┆     ┆            ┆   ┆ 5-**       ┆ 6          ┆ MARQUES   ┆           │\n",
       "│            ┆            ┆     ┆            ┆   ┆            ┆            ┆ DA SILVA  ┆           │\n",
       "│ 202401     ┆ 202303     ┆ BA  ┆ 3731       ┆ … ┆ ***.872.33 ┆ 2019537629 ┆ MAILSON   ┆ 650,00    │\n",
       "│            ┆            ┆     ┆            ┆   ┆ 8-**       ┆ 8          ┆ DOS       ┆           │\n",
       "│            ┆            ┆     ┆            ┆   ┆            ┆            ┆ SANTOS    ┆           │\n",
       "│            ┆            ┆     ┆            ┆   ┆            ┆            ┆ SILVA     ┆           │\n",
       "│ 202401     ┆ 202303     ┆ BA  ┆ 3761       ┆ … ┆ ***.665.90 ┆ 1272358908 ┆ IRENI     ┆ 650,00    │\n",
       "│            ┆            ┆     ┆            ┆   ┆ 5-**       ┆ 2          ┆ RICARDO   ┆           │\n",
       "│            ┆            ┆     ┆            ┆   ┆            ┆            ┆ GERALDO   ┆           │\n",
       "│ 202401     ┆ 202303     ┆ BA  ┆ 3849       ┆ … ┆ ***.932.43 ┆ 2002458400 ┆ ELIENE    ┆ 850,00    │\n",
       "│            ┆            ┆     ┆            ┆   ┆ 5-**       ┆ 7          ┆ GOMES DOS ┆           │\n",
       "│            ┆            ┆     ┆            ┆   ┆            ┆            ┆ SANTOS    ┆           │\n",
       "└────────────┴────────────┴─────┴────────────┴───┴────────────┴────────────┴───────────┴───────────┘"
      ]
     },
     "metadata": {},
     "output_type": "display_data"
    },
    {
     "name": "stdout",
     "output_type": "stream",
     "text": [
      "Tempo de execução com Pandas: 0.06402254104614258 segundos\n"
     ]
    }
   ],
   "source": [
    "arquivo1=pl.read_csv(\"202401_NovoBolsaFamilia.csv\", separator=\";\", encoding=\"latin-1\") #caminhos dos arquivos\n",
    "arquivo2=pl.read_csv(\"202402_NovoBolsaFamilia.csv\", separator=\";\", encoding=\"latin-1\")\n",
    "\n",
    "inicio_tempo=time.time() #marcação do tempo de processamento\n",
    "df_primeiro_bimestre=pl.concat([arquivo1,arquivo2])\n",
    "\n",
    "display(df_primeiro_bimestre.head())\n",
    "\n",
    "print(\"Tempo de execução com Pandas:\", time.time() - inicio_tempo, \"segundos\") "
   ]
  },
  {
   "cell_type": "code",
   "execution_count": 3,
   "metadata": {},
   "outputs": [],
   "source": [
    "df_primeiro_bimestre.write_parquet('primeiro_bimestre.parquet')"
   ]
  },
  {
   "cell_type": "code",
   "execution_count": null,
   "metadata": {},
   "outputs": [],
   "source": [
    "arquivo3=pl.read_csv(\"202401_NovoBolsaFamilia.csv\", separator=\";\", encoding=\"latin-1\") #caminhos dos arquivos\n",
    "arquivo4=pl.read_csv(\"202402_NovoBolsaFamilia.csv\", separator=\";\", encoding=\"latin-1\")\n",
    "\n",
    "inicio_tempo=time.time() #marcação do tempo de processamento\n",
    "df_segundo_bimestre=pl.concat([arquivo3,arquivo4])\n",
    "\n",
    "display(df_segundo_bimestre.head())\n",
    "\n",
    "print(\"Tempo de execução com Pandas:\", time.time() - inicio_tempo, \"segundos\")"
   ]
  },
  {
   "cell_type": "code",
   "execution_count": null,
   "metadata": {},
   "outputs": [],
   "source": [
    "df_segundo_bimestre.write_parquet('segundo_bimestre.parquet')"
   ]
  },
  {
   "cell_type": "code",
   "execution_count": null,
   "metadata": {},
   "outputs": [],
   "source": [
    "arquivo5=pl.read_csv(\"202401_NovoBolsaFamilia.csv\", separator=\";\", encoding=\"latin-1\") #caminhos dos arquivos\n",
    "arquivo6=pl.read_csv(\"202402_NovoBolsaFamilia.csv\", separator=\";\", encoding=\"latin-1\")\n",
    "\n",
    "inicio_tempo=time.time() #marcação do tempo de processamento\n",
    "df_terceiro_bimestre=pl.concat([arquivo5,arquivo6])\n",
    "\n",
    "display(df_terceiro_bimestre.head())\n",
    "\n",
    "print(\"Tempo de execução com Pandas:\", time.time() - inicio_tempo, \"segundos\")"
   ]
  },
  {
   "cell_type": "code",
   "execution_count": null,
   "metadata": {},
   "outputs": [],
   "source": [
    "df_terceiro_bimestre.write_parquet('terceiro_bimestre.parquet')"
   ]
  },
  {
   "cell_type": "code",
   "execution_count": null,
   "metadata": {},
   "outputs": [],
   "source": [
    "parquet1=pl.read_parquet('primeiro_bimestre.parquet')\n",
    "parquet2=pl.read_parquet('segundo_bimestre.parquet')\n",
    "parquet3=pl.read_parquet('terceiro_bimestre.parquet')\n",
    "bolsa_familia=pl.concat([parquet1,parquet2,parquet3])\n",
    "bolsa_familia.write_parquet('bolsa_familia_final.parquet')"
   ]
  },
  {
   "cell_type": "code",
   "execution_count": null,
   "metadata": {},
   "outputs": [],
   "source": [
    "#Lazy\n",
    "import polars as pl\n",
    "#Carregando o arquivo .paruet através de Lazy Evalution:\n",
    "df_lazy=pl.scan_parquet('bolsa_familia_final.parquet')\n",
    "\n",
    "#Definindo as operções que serão executadas apenas em momentos oportunos\n",
    "resultado=(df_lazy.filter(pl.col(\"NOME_MUNICÍPIO\")==\"RIO DE JANEIRO\").COLLECT())\n"
   ]
  },
  {
   "cell_type": "code",
   "execution_count": null,
   "metadata": {},
   "outputs": [],
   "source": [
    "display(resultado)"
   ]
  },
  {
   "cell_type": "code",
   "execution_count": 4,
   "metadata": {},
   "outputs": [
    {
     "name": "stdout",
     "output_type": "stream",
     "text": [
      "Uso de CPU: 0.0 %\n",
      "Uso de Memória: 7817.922203726868 MB\n"
     ]
    }
   ],
   "source": [
    "import psutil\n",
    "processo=psutil.Process()\n",
    "print('Uso de CPU:',processo.cpu_percent(),'%')\n",
    "print('Uso de Memória:',processo.memory_info().rss/(1024882), \"MB\")"
   ]
  }
 ],
 "metadata": {
  "kernelspec": {
   "display_name": "lilianecrespo",
   "language": "python",
   "name": "python3"
  },
  "language_info": {
   "codemirror_mode": {
    "name": "ipython",
    "version": 3
   },
   "file_extension": ".py",
   "mimetype": "text/x-python",
   "name": "python",
   "nbconvert_exporter": "python",
   "pygments_lexer": "ipython3",
   "version": "3.11.4"
  },
  "orig_nbformat": 4
 },
 "nbformat": 4,
 "nbformat_minor": 2
}
