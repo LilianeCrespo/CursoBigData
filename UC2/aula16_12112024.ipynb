{
 "cells": [
  {
   "cell_type": "code",
   "execution_count": 1,
   "metadata": {},
   "outputs": [],
   "source": [
    "import pandas as pd\n",
    "import polars as pl\n",
    "import time\n",
    "import pyarrow\n",
    "import fastparquet"
   ]
  },
  {
   "cell_type": "code",
   "execution_count": null,
   "metadata": {},
   "outputs": [],
   "source": [
    "df_pandas=pd.read_parquet('bimestre1.parquet')"
   ]
  },
  {
   "cell_type": "code",
   "execution_count": null,
   "metadata": {},
   "outputs": [],
   "source": [
    "df_polars=pl.read_parquet('bimestre1.parquet')"
   ]
  },
  {
   "cell_type": "code",
   "execution_count": null,
   "metadata": {},
   "outputs": [],
   "source": [
    "#Visualização\n",
    "display(df_pandas.head())\n",
    "print('**************************')"
   ]
  },
  {
   "cell_type": "code",
   "execution_count": null,
   "metadata": {},
   "outputs": [],
   "source": [
    "#Visualização\n",
    "display(df_polars.head())\n",
    "print('******************')"
   ]
  },
  {
   "cell_type": "code",
   "execution_count": null,
   "metadata": {},
   "outputs": [],
   "source": [
    "#Seleção de Colunas:\n",
    "\n",
    "display(df_pandas[\"CÓDIGO MUNICÍPIO SIAFI\"])\n",
    "\n",
    "print('*********************************')\n",
    "\n",
    "display(df_polars.select(\"CÓDIGO MUNICÍPIO SIAFI\"))"
   ]
  },
  {
   "cell_type": "code",
   "execution_count": null,
   "metadata": {},
   "outputs": [],
   "source": [
    "#Filtros e Condições:\n",
    "\n",
    "display(df_pandas[df_pandas[\"MÊS COMPETÊNCIA\"]==202401])\n",
    "\n",
    "print('*********************************')\n",
    "\n",
    "display(df_polars.filter(pl.col(\"MÊS COMPETÊNCIA\")==202401))\n",
    "\n"
   ]
  },
  {
   "cell_type": "code",
   "execution_count": null,
   "metadata": {},
   "outputs": [],
   "source": [
    "#Estatísticas Descritivas:\n",
    "\n",
    "display(df_pandas[\"UF\"].describe())\n",
    "\n",
    "print('*********************************')\n",
    "\n",
    "display(df_polars.select(pl.col(\"UF\")).describe())"
   ]
  },
  {
   "cell_type": "code",
   "execution_count": null,
   "metadata": {},
   "outputs": [],
   "source": [
    "#Ordenação dos Dados:\n",
    "\n",
    "display(df_pandas.sort_values(by=\"NOME MUNICÍPIO\"))\n",
    "\n",
    "print('*********************************')\n",
    "\n",
    "display(df_polars.sort(\"NOME MUNICÍPIO\"))\n"
   ]
  },
  {
   "cell_type": "code",
   "execution_count": null,
   "metadata": {},
   "outputs": [],
   "source": [
    "#Agregação e Agrupamento:\n",
    "\n",
    "#exemplo: agrupando por colunas e e contando em cima do que foi selecionado\n",
    "\n",
    "display(df_pandas.groupby('UF')['NOME MUNICÍPIO'].value_counts())\n",
    "\n",
    "print('*********************************')\n",
    "\n",
    "display(df_polars.group_by('UF').agg(pl.col('NOME MUNICÍPIO').value_counts()))"
   ]
  },
  {
   "cell_type": "code",
   "execution_count": null,
   "metadata": {},
   "outputs": [],
   "source": [
    "#Remoção de Linhas:\n",
    "\n",
    "#pandas\n",
    "df_pandas=df_pandas.drop(1)\n",
    "display(df_pandas.head())\n",
    "\n",
    "#polars\n",
    "df_polars=df_polars.slice(1)\n",
    "display(df_polars.head())"
   ]
  },
  {
   "cell_type": "code",
   "execution_count": null,
   "metadata": {},
   "outputs": [],
   "source": [
    "#Adição de Colunas:\n",
    "\n",
    "#pandas\n",
    "df_pandas[\"DK\"]=0\n",
    "display(df_pandas.head())\n",
    "\n",
    "#polars\n",
    "df_polars=df_polars.with_columns(pl.lit(0).alias('DK'))\n",
    "display(df_polars.head())"
   ]
  },
  {
   "cell_type": "code",
   "execution_count": null,
   "metadata": {},
   "outputs": [],
   "source": [
    "#Remoção de Colunas:\n",
    "\n",
    "#pandas\n",
    "df_pandas=df_pandas.drop(columns=['DK'])\n",
    "display(df_pandas.head())\n",
    "\n",
    "#polars\n",
    "df_polars=df_polars.drop(['DK'])\n",
    "display(df_polars.head())"
   ]
  }
 ],
 "metadata": {
  "kernelspec": {
   "display_name": "lilianecrespo",
   "language": "python",
   "name": "python3"
  },
  "language_info": {
   "codemirror_mode": {
    "name": "ipython",
    "version": 3
   },
   "file_extension": ".py",
   "mimetype": "text/x-python",
   "name": "python",
   "nbconvert_exporter": "python",
   "pygments_lexer": "ipython3",
   "version": "3.11.4"
  },
  "orig_nbformat": 4
 },
 "nbformat": 4,
 "nbformat_minor": 2
}
